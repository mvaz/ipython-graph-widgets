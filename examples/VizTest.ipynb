{
 "cells": [
  {
   "cell_type": "code",
   "execution_count": 1,
   "metadata": {
    "collapsed": false
   },
   "outputs": [],
   "source": [
    "%load_ext autoreload\n",
    "%autoreload 2"
   ]
  },
  {
   "cell_type": "markdown",
   "metadata": {},
   "source": [
    "### Generate example graph"
   ]
  },
  {
   "cell_type": "code",
   "execution_count": 3,
   "metadata": {
    "collapsed": false
   },
   "outputs": [],
   "source": [
    "import networkx as nx\n",
    "g = nx.generators.newman_watts_strogatz_graph(500, 2, 0.3)"
   ]
  },
  {
   "cell_type": "code",
   "execution_count": 9,
   "metadata": {
    "collapsed": false
   },
   "outputs": [],
   "source": [
    "import ipygraphwidgets.sigma_graph as gw"
   ]
  },
  {
   "cell_type": "code",
   "execution_count": 2,
   "metadata": {
    "collapsed": false
   },
   "outputs": [
    {
     "data": {
      "application/javascript": [
       "\n",
       "$.getScript('/nbextensions/sigmajs/sigma.min.js', function() {console.log('sigma.min.js')})\n",
       "$.getScript('/nbextensions/sigmajs/sigma.layout.forceAtlas2.min.js', function() {console.log('sigma.layout.forceAtlas2.min.js')})\n",
       "$.getScript('/nbextensions/sigmajs/sigma.plugins.dragNodes.min.js', function() {console.log('sigma.plugins.dragNodes.min.js')})"
      ],
      "text/plain": [
       "<IPython.core.display.Javascript object>"
      ]
     },
     "metadata": {},
     "output_type": "display_data"
    }
   ],
   "source": [
    "%%javascript\n",
    "\n",
    "$.getScript('/nbextensions/sigmajs/sigma.min.js', function() {console.log('sigma.min.js')})\n",
    "$.getScript('/nbextensions/sigmajs/sigma.layout.forceAtlas2.min.js', function() {console.log('sigma.layout.forceAtlas2.min.js')})\n",
    "$.getScript('/nbextensions/sigmajs/sigma.plugins.dragNodes.min.js', function() {console.log('sigma.plugins.dragNodes.min.js')})"
   ]
  },
  {
   "cell_type": "code",
   "execution_count": 6,
   "metadata": {
    "collapsed": false
   },
   "outputs": [],
   "source": [
    "from ipywidgets import widgets\n",
    "from pprint import pprint"
   ]
  },
  {
   "cell_type": "code",
   "execution_count": 11,
   "metadata": {
    "collapsed": false
   },
   "outputs": [],
   "source": [
    "w = gw.SigmajsWidget()\n",
    "w.width = 800\n",
    "w.height = 400\n",
    "w.slowdown = 1\n",
    "\n",
    "def newman_watts_strogatz(n, k, p):\n",
    "    _g = nx.newman_watts_strogatz_graph(n, k, p)\n",
    "    w.set_graph(_g)\n",
    "\n",
    "s = widgets.Latex(description='SelectedNode')\n",
    "\n",
    "c = widgets.VBox()\n",
    "c.children= [w,s]\n",
    "c"
   ]
  },
  {
   "cell_type": "code",
   "execution_count": 12,
   "metadata": {
    "collapsed": false
   },
   "outputs": [],
   "source": [
    "widgets.interact(newman_watts_strogatz, n=(20,350), m=(1,10), k=(1,10), p=(0.0, 1.0, 0.001))"
   ]
  }
 ],
 "metadata": {
  "kernelspec": {
   "display_name": "Python 3",
   "language": "python",
   "name": "python3"
  },
  "language_info": {
   "codemirror_mode": {
    "name": "ipython",
    "version": 3
   },
   "file_extension": ".py",
   "mimetype": "text/x-python",
   "name": "python",
   "nbconvert_exporter": "python",
   "pygments_lexer": "ipython3",
   "version": "3.4.3"
  }
 },
 "nbformat": 4,
 "nbformat_minor": 0
}
