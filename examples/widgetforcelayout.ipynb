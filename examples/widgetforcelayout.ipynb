{
 "cells": [
  {
   "cell_type": "markdown",
   "metadata": {},
   "source": [
    "### IPython Widgets + D3 Force Layout"
   ]
  },
  {
   "cell_type": "markdown",
   "metadata": {},
   "source": [
    "*By Miguel Vaz, July 2014*\n",
    "\n",
    "This is inspired by the work from \n",
    "\n",
    "Jake Vanderplas:\n",
    "\n",
    "http://nbviewer.ipython.org/urls/gist.githubusercontent.com/jakevdp/289be7d8c6e3a1248921/raw/0f265de9999efbe8c7ab9efe302dba0320b5ae8c/d3widget.ipynb\n",
    "\n",
    "Jonathan Frederic\n",
    "\n",
    "http://nbviewer.ipython.org/github/jdfreder/ipython-d3/tree/master/\n",
    "\n",
    "as well as\n",
    "\n",
    "http://stackoverflow.com/questions/9539294/adding-new-nodes-to-force-directed-layout?rq=1\n",
    "\n",
    "It requires a Python kernel to run; that is, if you're looking at this on nbviewer it won't work!\n",
    "\n",
    "- creates a d3 force layout, exposing some of the layout properties\n",
    "- the whole graph is synchronized all at once using a Dict traitlet\n",
    "\n",
    "TODO:\n",
    "* mouseover behaviour for showing information of the node\n",
    "* http://d3export.housegordon.org/\n"
   ]
  },
  {
   "cell_type": "code",
   "execution_count": 5,
   "metadata": {
    "collapsed": false
   },
   "outputs": [],
   "source": [
    "from ipywidgets import widgets\n",
    "from IPython.display import display\n",
    "from ipygraphwidgets.widgetforcelayout import GraphWidget"
   ]
  },
  {
   "cell_type": "code",
   "execution_count": null,
   "metadata": {
    "collapsed": true
   },
   "outputs": [],
   "source": [
    "!ls"
   ]
  },
  {
   "cell_type": "code",
   "execution_count": 2,
   "metadata": {
    "collapsed": false
   },
   "outputs": [],
   "source": [
    "import networkx as nx\n",
    "\n",
    "mygraph = nx.random_graphs.binomial_graph(20, 0.15, directed=False)"
   ]
  },
  {
   "cell_type": "code",
   "execution_count": 3,
   "metadata": {
    "collapsed": false
   },
   "outputs": [],
   "source": [
    "g = GraphWidget(width=500, height=500, charge=-250)\n",
    "display(g)"
   ]
  },
  {
   "cell_type": "code",
   "execution_count": 4,
   "metadata": {
    "collapsed": false
   },
   "outputs": [],
   "source": [
    "g.set_graph(mygraph)"
   ]
  }
 ],
 "metadata": {
  "kernelspec": {
   "display_name": "Python 3",
   "language": "python",
   "name": "python3"
  },
  "language_info": {
   "codemirror_mode": {
    "name": "ipython",
    "version": 3
   },
   "file_extension": ".py",
   "mimetype": "text/x-python",
   "name": "python",
   "nbconvert_exporter": "python",
   "pygments_lexer": "ipython3",
   "version": "3.4.3"
  }
 },
 "nbformat": 4,
 "nbformat_minor": 0
}
