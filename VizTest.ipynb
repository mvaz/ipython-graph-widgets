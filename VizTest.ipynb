{
 "metadata": {
  "name": "",
  "signature": "sha256:8684063008317a4eb7912a45b1bc32de8217500fac7f9a42ef158b614e93876a"
 },
 "nbformat": 3,
 "nbformat_minor": 0,
 "worksheets": [
  {
   "cells": [
    {
     "cell_type": "code",
     "collapsed": false,
     "input": [
      "%load_ext autoreload\n",
      "%autoreload 2"
     ],
     "language": "python",
     "metadata": {},
     "outputs": [
      {
       "output_type": "stream",
       "stream": "stdout",
       "text": [
        "The autoreload extension is already loaded. To reload it, use:\n",
        "  %reload_ext autoreload\n"
       ]
      }
     ],
     "prompt_number": 16
    },
    {
     "cell_type": "markdown",
     "metadata": {},
     "source": [
      "### Generate example graph"
     ]
    },
    {
     "cell_type": "code",
     "collapsed": false,
     "input": [
      "import networkx as nx"
     ],
     "language": "python",
     "metadata": {},
     "outputs": [],
     "prompt_number": 227
    },
    {
     "cell_type": "code",
     "collapsed": false,
     "input": [
      "g = nx.generators.newman_watts_strogatz_graph(10, 5, 0.4)"
     ],
     "language": "python",
     "metadata": {},
     "outputs": [],
     "prompt_number": 231
    },
    {
     "cell_type": "code",
     "collapsed": false,
     "input": [
      "from networkx.readwrite import json_graph\n",
      "new_value = json_graph.node_link_data(g)\n",
      "new_value['edges'] = new_value['links']"
     ],
     "language": "python",
     "metadata": {},
     "outputs": [],
     "prompt_number": 348
    },
    {
     "cell_type": "code",
     "collapsed": false,
     "input": [
      "import graphwidgets as gw"
     ],
     "language": "python",
     "metadata": {},
     "outputs": [],
     "prompt_number": 17
    },
    {
     "cell_type": "code",
     "collapsed": false,
     "input": [
      "new_value.pop('links', None)\n",
      "for n in new_value['nodes']:\n",
      "    n['x'] = np.random.random()\n",
      "    n['y'] = np.random.random()\n",
      "    n['color'] = rgb2hex( p( np.random.random()) ).decode(\"ascii\")\n",
      "    n['size'] = 1\n",
      "    n['id'] = \"n%d\"% n['id']\n",
      "    \n",
      "for e in new_value[\"edges\"]:\n",
      "    e['id'] = 'e%d%d'  % (e['source'], e['target'])\n",
      "    e['source'] = \"n%d\"% e['source']\n",
      "    e['target'] = \"n%d\"% e['target']"
     ],
     "language": "python",
     "metadata": {},
     "outputs": [
      {
       "ename": "NameError",
       "evalue": "name 'new_value' is not defined",
       "output_type": "pyerr",
       "traceback": [
        "\u001b[0;31m---------------------------------------------------------------------------\u001b[0m\n\u001b[0;31mNameError\u001b[0m                                 Traceback (most recent call last)",
        "\u001b[0;32m<ipython-input-18-a8c6e8be6bde>\u001b[0m in \u001b[0;36m<module>\u001b[0;34m()\u001b[0m\n\u001b[0;32m----> 1\u001b[0;31m \u001b[0mnew_value\u001b[0m\u001b[0;34m.\u001b[0m\u001b[0mpop\u001b[0m\u001b[0;34m(\u001b[0m\u001b[0;34m'links'\u001b[0m\u001b[0;34m,\u001b[0m \u001b[0mNone\u001b[0m\u001b[0;34m)\u001b[0m\u001b[0;34m\u001b[0m\u001b[0m\n\u001b[0m\u001b[1;32m      2\u001b[0m \u001b[0;32mfor\u001b[0m \u001b[0mn\u001b[0m \u001b[0;32min\u001b[0m \u001b[0mnew_value\u001b[0m\u001b[0;34m[\u001b[0m\u001b[0;34m'nodes'\u001b[0m\u001b[0;34m]\u001b[0m\u001b[0;34m:\u001b[0m\u001b[0;34m\u001b[0m\u001b[0m\n\u001b[1;32m      3\u001b[0m     \u001b[0mn\u001b[0m\u001b[0;34m[\u001b[0m\u001b[0;34m'x'\u001b[0m\u001b[0;34m]\u001b[0m \u001b[0;34m=\u001b[0m \u001b[0mnp\u001b[0m\u001b[0;34m.\u001b[0m\u001b[0mrandom\u001b[0m\u001b[0;34m.\u001b[0m\u001b[0mrandom\u001b[0m\u001b[0;34m(\u001b[0m\u001b[0;34m)\u001b[0m\u001b[0;34m\u001b[0m\u001b[0m\n\u001b[1;32m      4\u001b[0m     \u001b[0mn\u001b[0m\u001b[0;34m[\u001b[0m\u001b[0;34m'y'\u001b[0m\u001b[0;34m]\u001b[0m \u001b[0;34m=\u001b[0m \u001b[0mnp\u001b[0m\u001b[0;34m.\u001b[0m\u001b[0mrandom\u001b[0m\u001b[0;34m.\u001b[0m\u001b[0mrandom\u001b[0m\u001b[0;34m(\u001b[0m\u001b[0;34m)\u001b[0m\u001b[0;34m\u001b[0m\u001b[0m\n\u001b[1;32m      5\u001b[0m     \u001b[0mn\u001b[0m\u001b[0;34m[\u001b[0m\u001b[0;34m'color'\u001b[0m\u001b[0;34m]\u001b[0m \u001b[0;34m=\u001b[0m \u001b[0mrgb2hex\u001b[0m\u001b[0;34m(\u001b[0m \u001b[0mp\u001b[0m\u001b[0;34m(\u001b[0m \u001b[0mnp\u001b[0m\u001b[0;34m.\u001b[0m\u001b[0mrandom\u001b[0m\u001b[0;34m.\u001b[0m\u001b[0mrandom\u001b[0m\u001b[0;34m(\u001b[0m\u001b[0;34m)\u001b[0m\u001b[0;34m)\u001b[0m \u001b[0;34m)\u001b[0m\u001b[0;34m.\u001b[0m\u001b[0mdecode\u001b[0m\u001b[0;34m(\u001b[0m\u001b[0;34m\"ascii\"\u001b[0m\u001b[0;34m)\u001b[0m\u001b[0;34m\u001b[0m\u001b[0m\n",
        "\u001b[0;31mNameError\u001b[0m: name 'new_value' is not defined"
       ]
      }
     ],
     "prompt_number": 18
    },
    {
     "cell_type": "code",
     "collapsed": false,
     "input": [
      "gw.publish_js()\n",
      "w = gw.SigmajsWidget()\n",
      "w.width = 800\n",
      "w.height = 400\n",
      "w"
     ],
     "language": "python",
     "metadata": {},
     "outputs": [
      {
       "javascript": [
        "var s;\n",
        "require([\"//cdnjs.cloudflare.com/ajax/libs/d3/3.4.1/d3.min.js\",\"widgets/js/widget\"], function(d3,WidgetManager){\n",
        "\n",
        "    var SigmajsWidgetView = IPython.DOMWidgetView.extend({\n",
        "        render: function(){\n",
        "            this.guid = 'graph' + IPython.utils.uuid();\n",
        "            this.$el.append('<script src=\"/js/sigma.min.js\"/>');\n",
        "            this.$el.append('<script src=\"/js/sigma.layout.forceAtlas2.min.js\"/>');\n",
        "\n",
        "            this.$graph = $('<div />')\n",
        "                .attr('id', this.guid)\n",
        "                .attr('class', 'graph')\n",
        "                .appendTo(this.$el);\n",
        "\n",
        "            // this.setElement($('<div />', {id: this.guid, 'class': 'graph'}));\n",
        "\n",
        "            this.$el.css('position', 'relative');\n",
        "\n",
        "            this.s = {};\n",
        "\n",
        "            this.model.on('change:value', this.value_changed, this);\n",
        "            \n",
        "            // \n",
        "            // Wait for element to be added to the DOM            \n",
        "            var that = this;\n",
        "            setTimeout(function() {\n",
        "                that.update();\n",
        "                that.render_graph();\n",
        "            }, 0.01);\n",
        "\n",
        "        },\n",
        "\n",
        "        update: function() {\n",
        "            console.log('>> update');\n",
        "            this.$graph.css('width', this.model.get('width') + 'px');\n",
        "            this.$graph.css('height', this.model.get('height') + 'px');\n",
        "        },\n",
        "\n",
        "        render_graph: function(){\n",
        "\n",
        "            console.log(\"render\");\n",
        "\n",
        "            var d = {\n",
        "             'edges': [\n",
        "              {'id': 'e01', 'source': 'n0', 'target': 'n1'},\n",
        "              {'id': 'e02', 'source': 'n0', 'target': 'n2'},\n",
        "              {'id': 'e03', 'source': 'n0', 'target': 'n3'},\n",
        "              {'id': 'e06', 'source': 'n0', 'target': 'n6'},\n",
        "              {'id': 'e08', 'source': 'n0', 'target': 'n8'},\n",
        "              {'id': 'e09', 'source': 'n0', 'target': 'n9'},\n",
        "              {'id': 'e12', 'source': 'n1', 'target': 'n2'},\n",
        "              {'id': 'e13', 'source': 'n1', 'target': 'n3'},\n",
        "              {'id': 'e15', 'source': 'n1', 'target': 'n5'},\n",
        "              {'id': 'e18', 'source': 'n1', 'target': 'n8'},\n",
        "              {'id': 'e19', 'source': 'n1', 'target': 'n9'},\n",
        "              {'id': 'e23', 'source': 'n2', 'target': 'n3'},\n",
        "              {'id': 'e24', 'source': 'n2', 'target': 'n4'},\n",
        "              {'id': 'e29', 'source': 'n2', 'target': 'n9'},\n",
        "              {'id': 'e34', 'source': 'n3', 'target': 'n4'},\n",
        "              {'id': 'e35', 'source': 'n3', 'target': 'n5'},\n",
        "              {'id': 'e45', 'source': 'n4', 'target': 'n5'},\n",
        "              {'id': 'e46', 'source': 'n4', 'target': 'n6'},\n",
        "              {'id': 'e56', 'source': 'n5', 'target': 'n6'},\n",
        "              {'id': 'e57', 'source': 'n5', 'target': 'n7'},\n",
        "              {'id': 'e68', 'source': 'n6', 'target': 'n8'},\n",
        "              {'id': 'e67', 'source': 'n6', 'target': 'n7'},\n",
        "              {'id': 'e78', 'source': 'n7', 'target': 'n8'},\n",
        "              {'id': 'e79', 'source': 'n7', 'target': 'n9'},\n",
        "              {'id': 'e89', 'source': 'n8', 'target': 'n9'}],\n",
        "             'nodes': [{'color': '#c1e4d5',\n",
        "               'id': 'n0',\n",
        "               'size': 1,\n",
        "               'x': 0.3142195603571719,\n",
        "               'y': 0.7597627953276259},\n",
        "              {'color': '#b8e0cf',\n",
        "               'id': 'n1',\n",
        "               'size': 1,\n",
        "               'x': 0.19687066456535562,\n",
        "               'y': 0.911656533911617},\n",
        "              {'color': '#46b779',\n",
        "               'id': 'n2',\n",
        "               'size': 1,\n",
        "               'x': 0.7346903262175539,\n",
        "               'y': 0.4497176768204467},\n",
        "              {'color': '#d6ddf2',\n",
        "               'id': 'n3',\n",
        "               'size': 1,\n",
        "               'x': 0.6509681011724193,\n",
        "               'y': 0.7939470780617669},\n",
        "              {'color': '#f0f5f9',\n",
        "               'id': 'n4',\n",
        "               'size': 1,\n",
        "               'x': 0.34968972608560767,\n",
        "               'y': 0.052230458147380254},\n",
        "              {'color': '#ebf3f6',\n",
        "               'id': 'n5',\n",
        "               'size': 1,\n",
        "               'x': 0.7763268737696849,\n",
        "               'y': 0.29526832953242765},\n",
        "              {'color': '#74c89b',\n",
        "               'id': 'n6',\n",
        "               'size': 1,\n",
        "               'x': 0.964345683130373,\n",
        "               'y': 0.2920570283510353},\n",
        "              {'color': '#67c391',\n",
        "               'id': 'n7',\n",
        "               'size': 1,\n",
        "               'x': 0.29755145984946674,\n",
        "               'y': 0.19167517517104748},\n",
        "              {'color': '#6181c3',\n",
        "               'id': 'n8',\n",
        "               'size': 1,\n",
        "               'x': 0.12847253419763072,\n",
        "               'y': 0.22529639712760818},\n",
        "              {'color': '#eff1fb',\n",
        "               'id': 'n9',\n",
        "               // 'label': 'lalalal',\n",
        "               'size': 1,\n",
        "               'x': 0.22904247065470362,\n",
        "               'y': 0.6104898579847635}\n",
        "               ]\n",
        "            };\n",
        "\n",
        "            this.s = new sigma({\n",
        "                graph: d,\n",
        "                renderers: [{\n",
        "                    container: document.getElementById(this.guid),\n",
        "                    type: sigma.renderers.canvas //', // sigma.renderers.canvas works as well\n",
        "                }]\n",
        "            });\n",
        "            this.s.refresh();\n",
        "            this.s.startForceAtlas2();\n",
        "            console.log(s);\n",
        "\n",
        "// console.log('d');\n",
        "\n",
        "// this.s = new sigma(document.getElementById(this.guid));\n",
        "// console.log(this.s);\n",
        "\n",
        "// Then, let's add some data to display:\n",
        "// this.s.graph.addNode({\n",
        "//     // Main attributes:\n",
        "//     id: 'n0',\n",
        "//     label: 'Hello',\n",
        "//     // Display attributes:\n",
        "//     x: 0,\n",
        "//     y: 0,\n",
        "//     size: 1,\n",
        "//     color: '#f00'\n",
        "// }).addNode({\n",
        "//     // Main attributes:\n",
        "//     id: 'n1',\n",
        "//     label: 'World !',\n",
        "//     // Display attributes:\n",
        "//     x: 1,\n",
        "//     y: 1,\n",
        "//     size: 1,\n",
        "//     color: '#00f'\n",
        "// }).addEdge({\n",
        "//     id: 'e0',\n",
        "//     // Reference extremities:\n",
        "//     source: 'n0',\n",
        "//     target: 'n1',\n",
        "//     color: '#0f0'\n",
        "// });\n",
        "\n",
        "// console.log('refresh');\n",
        "// // Finally, let's ask our sigma instance to refresh:\n",
        "// this.s.refresh();\n",
        "// this.s.startForceAtlas2();\n",
        "// sigma-labels\n",
        "            // this.$('.sigma-labels').each(function(i,x){ x.style.position = 'relative'; });\n",
        "            // this.$('.sigma-scene').each(function(i,x){ x.style.position = 'relative'; });\n",
        "            // this.$('.sigma-mouse').each(function(i,x){ x.style.position = 'relative'; });\n",
        "        },\n",
        "\n",
        "        value_changed: function() {\n",
        "            console.log(\"value_changed\");\n",
        "            // var new_data = this.model.get(\"value\");\n",
        "\n",
        "            // var that = this;\n",
        "            setTimeout(function() {\n",
        "                // this.s.stopForceAtlas2(); // \n",
        "                console.log('xxxxx');\n",
        "            }, 1000);\n",
        "        }\n",
        "    });\n",
        "\n",
        "    WidgetManager.register_widget_view('SigmajsWidgetView', SigmajsWidgetView);\n",
        "});\n"
       ],
       "metadata": {},
       "output_type": "display_data",
       "text": [
        "<IPython.core.display.Javascript at 0x106e23790>"
       ]
      }
     ],
     "prompt_number": 19
    },
    {
     "cell_type": "code",
     "collapsed": false,
     "input": [
      "from IPython.display import HTML\n",
      "from IPython.html import widgets # Widget definitions\n"
     ],
     "language": "python",
     "metadata": {},
     "outputs": [],
     "prompt_number": 3
    },
    {
     "cell_type": "code",
     "collapsed": false,
     "input": [
      "HTML(\"\"\"\n",
      "<style>\n",
      "body {\n",
      "    margin: 0;\n",
      "}\n",
      "div#container {\n",
      "    width: 100px;\n",
      "    height: 100px;\n",
      "}\n",
      "</style>\n",
      "<div id=\"container\"></div>\n",
      "<script src=\"http://sigmajs.org/assets/js/sigma.min.js\"/>\n",
      "<script src=\"http://sigmajs.org/assets/js/sigma.plugins.animate.min.js\"/>\n",
      "<script>\n",
      "// Let's first initialize sigma:\n",
      "var s = new sigma('container');\n",
      "\n",
      "// Then, let's add some data to display:\n",
      "s.graph.addNode({\n",
      "    // Main attributes:\n",
      "    id: 'n0',\n",
      "    label: 'Hello',\n",
      "    // Display attributes:\n",
      "    x: 0,\n",
      "    y: 0,\n",
      "    size: 1,\n",
      "    color: '#f00'\n",
      "}).addNode({\n",
      "    // Main attributes:\n",
      "    id: 'n1',\n",
      "    label: 'World !',\n",
      "    // Display attributes:\n",
      "    x: 1,\n",
      "    y: 1,\n",
      "    size: 1,\n",
      "    color: '#00f'\n",
      "}).addEdge({\n",
      "    id: 'e0',\n",
      "    // Reference extremities:\n",
      "    source: 'n0',\n",
      "    target: 'n1',\n",
      "    color: '#0f0'\n",
      "});\n",
      "\n",
      "// Finally, let's ask our sigma instance to refresh:\n",
      "s.refresh();\n",
      "</script>\"\"\")"
     ],
     "language": "python",
     "metadata": {},
     "outputs": [
      {
       "html": [
        "\n",
        "<style>\n",
        "body {\n",
        "    margin: 0;\n",
        "}\n",
        "div#container {\n",
        "    width: 100px;\n",
        "    height: 100px;\n",
        "}\n",
        "</style>\n",
        "<div id=\"container\"></div>\n",
        "<script src=\"http://sigmajs.org/assets/js/sigma.min.js\"/>\n",
        "<script src=\"http://sigmajs.org/assets/js/sigma.plugins.animate.min.js\"/>\n",
        "<script>\n",
        "// Let's first initialize sigma:\n",
        "var s = new sigma('container');\n",
        "\n",
        "// Then, let's add some data to display:\n",
        "s.graph.addNode({\n",
        "    // Main attributes:\n",
        "    id: 'n0',\n",
        "    label: 'Hello',\n",
        "    // Display attributes:\n",
        "    x: 0,\n",
        "    y: 0,\n",
        "    size: 1,\n",
        "    color: '#f00'\n",
        "}).addNode({\n",
        "    // Main attributes:\n",
        "    id: 'n1',\n",
        "    label: 'World !',\n",
        "    // Display attributes:\n",
        "    x: 1,\n",
        "    y: 1,\n",
        "    size: 1,\n",
        "    color: '#00f'\n",
        "}).addEdge({\n",
        "    id: 'e0',\n",
        "    // Reference extremities:\n",
        "    source: 'n0',\n",
        "    target: 'n1',\n",
        "    color: '#0f0'\n",
        "});\n",
        "\n",
        "// Finally, let's ask our sigma instance to refresh:\n",
        "s.refresh();\n",
        "</script>"
       ],
       "metadata": {},
       "output_type": "pyout",
       "prompt_number": 411,
       "text": [
        "<IPython.core.display.HTML at 0x11bde84d0>"
       ]
      }
     ],
     "prompt_number": 411
    },
    {
     "cell_type": "code",
     "collapsed": false,
     "input": [
      "import seaborn as sns\n",
      "p = sns.blend_palette([\"mediumseagreen\", \"ghostwhite\", \"#4168B7\"], 9, as_cmap=True)"
     ],
     "language": "python",
     "metadata": {},
     "outputs": [],
     "prompt_number": 289
    },
    {
     "cell_type": "code",
     "collapsed": false,
     "input": [
      "import matplotlib.cm as cm"
     ],
     "language": "python",
     "metadata": {},
     "outputs": [],
     "prompt_number": 296
    },
    {
     "cell_type": "code",
     "collapsed": false,
     "input": [
      "m = cm.ScalarMappable(cmap=p)"
     ],
     "language": "python",
     "metadata": {},
     "outputs": [],
     "prompt_number": 298
    },
    {
     "cell_type": "code",
     "collapsed": true,
     "input": [
      "from matplotlib.colors import ColorConverter, rgb2hex\n",
      "# c = mpl.colors."
     ],
     "language": "python",
     "metadata": {},
     "outputs": [],
     "prompt_number": 310
    },
    {
     "cell_type": "code",
     "collapsed": false,
     "input": [
      "rgb2hex( p(0.3))"
     ],
     "language": "python",
     "metadata": {},
     "outputs": [
      {
       "metadata": {},
       "output_type": "pyout",
       "prompt_number": 311,
       "text": [
        "u'#acdcc6'"
       ]
      }
     ],
     "prompt_number": 311
    },
    {
     "cell_type": "code",
     "collapsed": false,
     "input": [
      "conv.to_rgba?"
     ],
     "language": "python",
     "metadata": {},
     "outputs": [],
     "prompt_number": 309
    },
    {
     "cell_type": "code",
     "collapsed": false,
     "input": [
      "sns.blend_palette?"
     ],
     "language": "python",
     "metadata": {},
     "outputs": [],
     "prompt_number": 288
    }
   ],
   "metadata": {}
  }
 ]
}