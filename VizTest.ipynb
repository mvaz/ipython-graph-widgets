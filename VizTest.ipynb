{
 "metadata": {
  "name": "",
  "signature": "sha256:3018f4b4da404b66beeb1ea0ab2c8c9e128054001128be2bdc583a2ec59c26ec"
 },
 "nbformat": 3,
 "nbformat_minor": 0,
 "worksheets": [
  {
   "cells": [
    {
     "cell_type": "code",
     "collapsed": false,
     "input": [
      "%load_ext autoreload\n",
      "%autoreload 2"
     ],
     "language": "python",
     "metadata": {},
     "outputs": [
      {
       "output_type": "stream",
       "stream": "stdout",
       "text": [
        "The autoreload extension is already loaded. To reload it, use:\n",
        "  %reload_ext autoreload\n"
       ]
      }
     ],
     "prompt_number": 13
    },
    {
     "cell_type": "code",
     "collapsed": false,
     "input": [
      "%%javascript\n",
      "\n",
      "$.getScript('/nbextensions/sigmajs/sigma.min.js', function() {console.log('sigma.min.js')})\n",
      "$.getScript('/nbextensions/sigmajs/sigma.layout.forceAtlas2.min.js', function() {console.log('sigma.layout.forceAtlas2.min.js')})\n",
      "$.getScript('/nbextensions/sigmajs/sigma.plugins.dragNodes.min.js', function() {console.log('sigma.plugins.dragNodes.min.js')})"
     ],
     "language": "python",
     "metadata": {},
     "outputs": [
      {
       "javascript": [
        "\n",
        "$.getScript('/nbextensions/sigmajs/sigma.min.js', function() {console.log('sigma.min.js')})\n",
        "$.getScript('/nbextensions/sigmajs/sigma.layout.forceAtlas2.min.js', function() {console.log('sigma.layout.forceAtlas2.min.js')})\n",
        "$.getScript('/nbextensions/sigmajs/sigma.plugins.dragNodes.min.js', function() {console.log('sigma.plugins.dragNodes.min.js')})"
       ],
       "metadata": {},
       "output_type": "display_data",
       "text": [
        "<IPython.core.display.Javascript at 0x1159e81d0>"
       ]
      }
     ],
     "prompt_number": 14
    },
    {
     "cell_type": "markdown",
     "metadata": {},
     "source": [
      "### Generate example graph"
     ]
    },
    {
     "cell_type": "code",
     "collapsed": false,
     "input": [
      "import networkx as nx\n",
      "g = nx.generators.newman_watts_strogatz_graph(330, 2, 0.3)"
     ],
     "language": "python",
     "metadata": {},
     "outputs": [],
     "prompt_number": 26
    },
    {
     "cell_type": "code",
     "collapsed": false,
     "input": [
      "import graphwidgets as gw"
     ],
     "language": "python",
     "metadata": {},
     "outputs": [],
     "prompt_number": 16
    },
    {
     "cell_type": "code",
     "collapsed": false,
     "input": [
      "gw.publish_js()\n",
      "w = gw.SigmajsWidget()\n",
      "w.width = 800\n",
      "w.height = 600\n",
      "w.slowdown = 5\n",
      "w.set_graph(gg)\n",
      "w"
     ],
     "language": "python",
     "metadata": {},
     "outputs": [
      {
       "javascript": [
        "var s;\n",
        "require([\"//cdnjs.cloudflare.com/ajax/libs/d3/3.4.1/d3.min.js\",\"widgets/js/widget\"], function(d3,WidgetManager){\n",
        "\n",
        "    var SigmajsWidgetView = IPython.DOMWidgetView.extend({\n",
        "        render: function(){\n",
        "            this.guid = 'graph' + IPython.utils.uuid();\n",
        "            // this.$el.append('<script src=\"js/sigma.min.js\"/>');\n",
        "            // this.$el.append('<script src=\"js/sigma.layout.forceAtlas2.min.js\"/>');\n",
        "            // this.$el.append('<script src=\"js/sigma.plugins.dragNodes.min.js\"/>');\n",
        "\n",
        "\n",
        "            this.$graph = $('<div />')\n",
        "                .attr('id', this.guid)\n",
        "                .attr('class', 'graph')\n",
        "                .appendTo(this.$el);\n",
        "\n",
        "            this.$el.css('position', 'relative');\n",
        "\n",
        "            this.s = {};\n",
        "\n",
        "            this.model.on('change:value', this.value_changed, this);\n",
        "            \n",
        "            // \n",
        "            // Wait for element to be added to the DOM            \n",
        "            var that = this;\n",
        "            setTimeout(function() {\n",
        "                that.update();\n",
        "                that.render_graph();\n",
        "            }, 0.01);\n",
        "\n",
        "        },\n",
        "\n",
        "        update: function() {\n",
        "            console.log('>> update');\n",
        "            this.$graph.css('width', this.model.get('width') + 'px');\n",
        "            this.$graph.css('height', this.model.get('height') + 'px');\n",
        "        },\n",
        "\n",
        "        render_graph: function(){\n",
        "\n",
        "            console.log(\"render\");\n",
        "\n",
        "            var d = this.model.get('value');\n",
        "\n",
        "            this.s = new sigma({\n",
        "                graph: d,\n",
        "                renderers: [{\n",
        "                    container: document.getElementById(this.guid),\n",
        "                    type: sigma.renderers.canvas //', // sigma.renderers.canvas works as well\n",
        "                }]\n",
        "            });\n",
        "            this.s.refresh();\n",
        "            var slowdown = this.model.get(\"slowdown\");\n",
        "            this.s.startForceAtlas2({slowDown: slowdown});\n",
        "            // sigma.plugins.dragNodes(this.s, this.s.renderers[0]);\n",
        "\n",
        "            // setTimeout(function() {\n",
        "            //   this.s.stopForceAtlas2();\n",
        "            // }, 10.0);\n",
        "\n",
        "            // this.$('.sigma-labels').each(function(i,x){ x.style.position = 'relative'; });\n",
        "            // this.$('.sigma-scene').each(function(i,x){ x.style.position = 'relative'; });\n",
        "            // this.$('.sigma-mouse').each(function(i,x){ x.style.position = 'relative'; });\n",
        "        },\n",
        "\n",
        "        value_changed: function() {\n",
        "          var isEmpty = function (val){\n",
        "            return (val === undefined || val == null || val.length <= 0) ? true : false;\n",
        "          };\n",
        "          var new_data = this.model.get(\"value\");\n",
        "          console.log(\"value_changed\", this.s, new_data);\n",
        "\n",
        "          for (var i = new_data.nodes.length - 1; i >= 0; i--) {\n",
        "            var oldNode;\n",
        "            oldNode = this.s.graph.nodes(new_data.nodes[i].id);\n",
        "\n",
        "            if (!isEmpty(oldNode)){\n",
        "              new_data.nodes[i].x = oldNode.x;\n",
        "              new_data.nodes[i].y = oldNode.y;\n",
        "            } else {\n",
        "              new_data.nodes[i].x = 0.1;\n",
        "              new_data.nodes[i].y = 0.01;\n",
        "            }\n",
        "            ;\n",
        "          };\n",
        "          \n",
        "          console.log(\"clear\");\n",
        "\n",
        "          this.s.graph.clear();\n",
        "          this.s.graph.read(new_data);\n",
        "          this.s.refresh();\n",
        "\n",
        "          var slowdown = this.model.get(\"slowdown\");\n",
        "          console.log('slowdown', slowdown);\n",
        "          this.s.startForceAtlas2({slowDown: slowdown});\n",
        "          \n",
        "          setTimeout(function() {\n",
        "            // this.s.refresh();\n",
        "              // this.s.startForceAtlas2({slowDown: 500000});\n",
        "              // console.log(\"finished\");\n",
        "              // console.log(\"** \", this.s.isForceAtlas2Running());\n",
        "          }, 1000);\n",
        "        }\n",
        "    });\n",
        "\n",
        "    WidgetManager.register_widget_view('SigmajsWidgetView', SigmajsWidgetView);\n",
        "});\n",
        "\n",
        "\n",
        "\n",
        "\n",
        "            // {\n",
        "            //  'edges': [\n",
        "            //   {'id': 'e01', 'source': 'n0', 'target': 'n1'},\n",
        "            //   {'id': 'e02', 'source': 'n0', 'target': 'n2'},\n",
        "            //   {'id': 'e03', 'source': 'n0', 'target': 'n3'},\n",
        "            //   {'id': 'e06', 'source': 'n0', 'target': 'n6'},\n",
        "            //   {'id': 'e08', 'source': 'n0', 'target': 'n8'},\n",
        "            //   {'id': 'e09', 'source': 'n0', 'target': 'n9'},\n",
        "            //   {'id': 'e12', 'source': 'n1', 'target': 'n2'},\n",
        "            //   {'id': 'e13', 'source': 'n1', 'target': 'n3'},\n",
        "            //   {'id': 'e15', 'source': 'n1', 'target': 'n5'},\n",
        "            //   {'id': 'e18', 'source': 'n1', 'target': 'n8'},\n",
        "            //   {'id': 'e19', 'source': 'n1', 'target': 'n9'},\n",
        "            //   {'id': 'e23', 'source': 'n2', 'target': 'n3'},\n",
        "            //   {'id': 'e24', 'source': 'n2', 'target': 'n4'},\n",
        "            //   {'id': 'e29', 'source': 'n2', 'target': 'n9'},\n",
        "            //   {'id': 'e34', 'source': 'n3', 'target': 'n4'},\n",
        "            //   {'id': 'e35', 'source': 'n3', 'target': 'n5'},\n",
        "            //   {'id': 'e45', 'source': 'n4', 'target': 'n5'},\n",
        "            //   {'id': 'e46', 'source': 'n4', 'target': 'n6'},\n",
        "            //   {'id': 'e56', 'source': 'n5', 'target': 'n6'},\n",
        "            //   {'id': 'e57', 'source': 'n5', 'target': 'n7'},\n",
        "            //   {'id': 'e68', 'source': 'n6', 'target': 'n8'},\n",
        "            //   {'id': 'e67', 'source': 'n6', 'target': 'n7'},\n",
        "            //   {'id': 'e78', 'source': 'n7', 'target': 'n8'},\n",
        "            //   {'id': 'e79', 'source': 'n7', 'target': 'n9'},\n",
        "            //   {'id': 'e89', 'source': 'n8', 'target': 'n9'}],\n",
        "            //  'nodes': [{'color': '#c1e4d5',\n",
        "            //    'id': 'n0',\n",
        "            //    'size': 1,\n",
        "            //    'x': 0.3142195603571719,\n",
        "            //    'y': 0.7597627953276259},\n",
        "            //   {'color': '#b8e0cf',\n",
        "            //    'id': 'n1',\n",
        "            //    'size': 1,\n",
        "            //    'x': 0.19687066456535562,\n",
        "            //    'y': 0.911656533911617},\n",
        "            //   {'color': '#46b779',\n",
        "            //    'id': 'n2',\n",
        "            //    'size': 1,\n",
        "            //    'x': 0.7346903262175539,\n",
        "            //    'y': 0.4497176768204467},\n",
        "            //   {'color': '#d6ddf2',\n",
        "            //    'id': 'n3',\n",
        "            //    'size': 1,\n",
        "            //    'x': 0.6509681011724193,\n",
        "            //    'y': 0.7939470780617669},\n",
        "            //   {'color': '#f0f5f9',\n",
        "            //    'id': 'n4',\n",
        "            //    'size': 1,\n",
        "            //    'x': 0.34968972608560767,\n",
        "            //    'y': 0.052230458147380254},\n",
        "            //   {'color': '#ebf3f6',\n",
        "            //    'id': 'n5',\n",
        "            //    'size': 1,\n",
        "            //    'x': 0.7763268737696849,\n",
        "            //    'y': 0.29526832953242765},\n",
        "            //   {'color': '#74c89b',\n",
        "            //    'id': 'n6',\n",
        "            //    'size': 1,\n",
        "            //    'x': 0.964345683130373,\n",
        "            //    'y': 0.2920570283510353},\n",
        "            //   {'color': '#67c391',\n",
        "            //    'id': 'n7',\n",
        "            //    'size': 1,\n",
        "            //    'x': 0.29755145984946674,\n",
        "            //    'y': 0.19167517517104748},\n",
        "            //   {'color': '#6181c3',\n",
        "            //    'id': 'n8',\n",
        "            //    'size': 1,\n",
        "            //    'x': 0.12847253419763072,\n",
        "            //    'y': 0.22529639712760818},\n",
        "            //   {'color': '#eff1fb',\n",
        "            //    'id': 'n9',\n",
        "            //    'label': 'lalalal',\n",
        "            //    'size': 1,\n",
        "            //    'x': 0.22904247065470362,\n",
        "            //    'y': 0.6104898579847635}\n",
        "            //    ]\n",
        "            // };\n"
       ],
       "metadata": {},
       "output_type": "display_data",
       "text": [
        "<IPython.core.display.Javascript at 0x116276c90>"
       ]
      }
     ],
     "prompt_number": 43
    },
    {
     "cell_type": "code",
     "collapsed": false,
     "input": [
      "w.set_graph(gg)"
     ],
     "language": "python",
     "metadata": {},
     "outputs": [],
     "prompt_number": 44
    },
    {
     "cell_type": "code",
     "collapsed": false,
     "input": [
      "w.height = 600"
     ],
     "language": "python",
     "metadata": {},
     "outputs": [],
     "prompt_number": 30
    },
    {
     "cell_type": "code",
     "collapsed": false,
     "input": [
      "gg = nx.algorithms.minimum_spanning_tree(g)"
     ],
     "language": "python",
     "metadata": {},
     "outputs": [],
     "prompt_number": 28
    },
    {
     "cell_type": "code",
     "collapsed": false,
     "input": [
      "%matplotlib inline"
     ],
     "language": "python",
     "metadata": {},
     "outputs": [],
     "prompt_number": 40
    },
    {
     "cell_type": "code",
     "collapsed": false,
     "input": [
      "nx.draw_graphviz(gg)"
     ],
     "language": "python",
     "metadata": {},
     "outputs": [
      {
       "metadata": {},
       "output_type": "display_data",
       "png": "[encoded data removed]",
       "text": [
        "<matplotlib.figure.Figure at 0x11617e850>"
       ]
      }
     ],
     "prompt_number": 41
    }
   ],
   "metadata": {}
  }
 ]
}