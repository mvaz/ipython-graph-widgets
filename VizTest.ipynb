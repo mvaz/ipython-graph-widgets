{
 "cells": [
  {
   "cell_type": "code",
   "execution_count": null,
   "metadata": {
    "collapsed": false
   },
   "outputs": [],
   "source": [
    "%load_ext autoreload\n",
    "%autoreload 2"
   ]
  },
  {
   "cell_type": "code",
   "execution_count": null,
   "metadata": {
    "collapsed": false
   },
   "outputs": [],
   "source": [
    "%%javascript\n",
    "\n",
    "$.getScript('/nbextensions/sigmajs/sigma.min.js', function() {console.log('sigma.min.js')})\n",
    "$.getScript('/nbextensions/sigmajs/sigma.layout.forceAtlas2.min.js', function() {console.log('sigma.layout.forceAtlas2.min.js')})\n",
    "$.getScript('/nbextensions/sigmajs/sigma.plugins.dragNodes.min.js', function() {console.log('sigma.plugins.dragNodes.min.js')})"
   ]
  },
  {
   "cell_type": "markdown",
   "metadata": {},
   "source": [
    "### Generate example graph"
   ]
  },
  {
   "cell_type": "code",
   "execution_count": 1,
   "metadata": {
    "collapsed": false
   },
   "outputs": [],
   "source": [
    "import networkx as nx\n",
    "g = nx.generators.newman_watts_strogatz_graph(500, 2, 0.3)"
   ]
  },
  {
   "cell_type": "code",
   "execution_count": 2,
   "metadata": {
    "collapsed": false
   },
   "outputs": [],
   "source": [
    "import graphwidgets as gw"
   ]
  },
  {
   "cell_type": "code",
   "execution_count": 3,
   "metadata": {
    "collapsed": false
   },
   "outputs": [
    {
     "data": {
      "application/javascript": [
       "var s;\n",
       "require([\"//cdnjs.cloudflare.com/ajax/libs/d3/3.4.1/d3.min.js\",\n",
       "    \"nbextensions/widgets/widgets/js/widget\",\n",
       "    \"nbextensions/widgets/widgets/js/manager\"],\n",
       "    function(d3, widget, manager){\n",
       "\n",
       "    var SigmajsWidgetView = widget.DOMWidgetView.extend({\n",
       "        render: function(){\n",
       "            this.guid = 'graph' + IPython.utils.uuid();\n",
       "            // this.$el.append('<script src=\"js/sigma.min.js\"/>');\n",
       "            // this.$el.append('<script src=\"js/sigma.layout.forceAtlas2.min.js\"/>');\n",
       "            // this.$el.append('<script src=\"js/sigma.plugins.dragNodes.min.js\"/>');\n",
       "\n",
       "\n",
       "            this.$graph = $('<div />')\n",
       "                .attr('id', this.guid)\n",
       "                .attr('class', 'graph')\n",
       "                .appendTo(this.$el);\n",
       "\n",
       "            this.$el.css('position', 'relative');\n",
       "\n",
       "            this.isRunning = false;\n",
       "\n",
       "            this.s = {};\n",
       "\n",
       "            this.model.on('change:value', this.value_changed, this);\n",
       "            // this.model.on('change:width', this.update, this);\n",
       "            \n",
       "            // \n",
       "            // Wait for element to be added to the DOM            \n",
       "            var that = this;\n",
       "            setTimeout(function() {\n",
       "                that._update();\n",
       "                that.render_graph();\n",
       "            }, 0.01);\n",
       "\n",
       "        },\n",
       "\n",
       "        _update: function() {\n",
       "            console.log('>> update');\n",
       "            this.$graph.css('width', this.model.get('width') + 'px');\n",
       "            this.$graph.css('height', this.model.get('height') + 'px');\n",
       "        },\n",
       "\n",
       "        render_graph: function(){\n",
       "\n",
       "            console.log(\"render\");\n",
       "\n",
       "            var d = this.model.get('value');\n",
       "\n",
       "            this.s = new sigma({\n",
       "                graph: d,\n",
       "                skipErrors: true,\n",
       "                renderers: [{\n",
       "                    container: document.getElementById(this.guid),\n",
       "                    type: sigma.renderers.canvas //', // sigma.renderers.canvas works as well\n",
       "                }]\n",
       "            });\n",
       "\n",
       "            var that = this;\n",
       "            this.s.bind('clickNode', function(ev) {\n",
       "              var nodeIdx = ev.data.node.id;\n",
       "              console.log('clickNode', nodeIdx);\n",
       "              that.model.set('selected_node', nodeIdx);\n",
       "              that.touch();\n",
       "            });\n",
       "\n",
       "            this.s.refresh();\n",
       "            var slowdown = this.model.get(\"slowdown\");\n",
       "            // this.s.startForceAtlas2({slowDown: slowdown});\n",
       "            // sigma.plugins.dragNodes(this.s, this.s.renderers[0]);\n",
       "\n",
       "            // setTimeout(function() {\n",
       "            //   this.s.stopForceAtlas2();\n",
       "            // }, 10.0);\n",
       "\n",
       "            // this.$('.sigma-labels').each(function(i,x){ x.style.position = 'relative'; });\n",
       "            // this.$('.sigma-scene').each(function(i,x){ x.style.position = 'relative'; });\n",
       "            // this.$('.sigma-mouse').each(function(i,x){ x.style.position = 'relative'; });\n",
       "        },\n",
       "\n",
       "        value_changed: function() {\n",
       "\n",
       "          // PART 1\n",
       "          var isEmpty = function (val){\n",
       "            return (val === undefined || val == null || val.length <= 0) ? true : false;\n",
       "          };\n",
       "\n",
       "          if (this.isRunning) {\n",
       "            console.log(\"I'm busy\");\n",
       "          }\n",
       "          else {\n",
       "\n",
       "            this.isRunning = true;\n",
       "\n",
       "            var new_data = this.model.get(\"value\");\n",
       "            console.log(\"value_changed\", this.s, new_data);\n",
       "\n",
       "            for (var i = new_data.nodes.length - 1; i >= 0; i--) {\n",
       "              var oldNode;\n",
       "              oldNode = this.s.graph.nodes(new_data.nodes[i].id);\n",
       "\n",
       "              if (!isEmpty(oldNode)){\n",
       "                new_data.nodes[i].x = oldNode.x + 0.01 * Math.random();\n",
       "                new_data.nodes[i].y = oldNode.y + 0.01 * Math.random();\n",
       "              } else {\n",
       "                new_data.nodes[i].x = Math.random();\n",
       "                new_data.nodes[i].y = Math.random();\n",
       "              }\n",
       "              ;\n",
       "            };\n",
       "\n",
       "            // PART 2\n",
       "            console.log(\"clear\");\n",
       "            this.s.stopForceAtlas2();\n",
       "            this.s.graph.clear();\n",
       "\n",
       "            this.s.graph.read(new_data);\n",
       "\n",
       "            this.s.refresh();\n",
       "\n",
       "            var slowdown = this.model.get(\"slowdown\");\n",
       "            console.log('slowdown', slowdown);\n",
       "            this.s.startForceAtlas2({\n",
       "              slowDown: slowdown,\n",
       "              adjustSizes: true,\n",
       "              linLogMode: true\n",
       "            });            \n",
       "\n",
       "            this.isRunning = false;\n",
       "          };\n",
       "\n",
       "          \n",
       "          setTimeout(function() {\n",
       "            // this.s.refresh();\n",
       "              // this.s.startForceAtlas2({slowDown: 500000});\n",
       "              // console.log(\"finished\");\n",
       "              // console.log(\"** \", this.s.isForceAtlas2Running());\n",
       "          }, 1000);\n",
       "        }\n",
       "    });\n",
       "\n",
       "    manager.WidgetManager.register_widget_view('SigmajsWidgetView', SigmajsWidgetView);\n",
       "});\n",
       "\n",
       "\n",
       "\n",
       "\n",
       "            // {\n",
       "            //  'edges': [\n",
       "            //   {'id': 'e01', 'source': 'n0', 'target': 'n1'},\n",
       "            //   {'id': 'e02', 'source': 'n0', 'target': 'n2'},\n",
       "            //   {'id': 'e03', 'source': 'n0', 'target': 'n3'},\n",
       "            //   {'id': 'e06', 'source': 'n0', 'target': 'n6'},\n",
       "            //   {'id': 'e08', 'source': 'n0', 'target': 'n8'},\n",
       "            //   {'id': 'e09', 'source': 'n0', 'target': 'n9'},\n",
       "            //   {'id': 'e12', 'source': 'n1', 'target': 'n2'},\n",
       "            //   {'id': 'e13', 'source': 'n1', 'target': 'n3'},\n",
       "            //   {'id': 'e15', 'source': 'n1', 'target': 'n5'},\n",
       "            //   {'id': 'e18', 'source': 'n1', 'target': 'n8'},\n",
       "            //   {'id': 'e19', 'source': 'n1', 'target': 'n9'},\n",
       "            //   {'id': 'e23', 'source': 'n2', 'target': 'n3'},\n",
       "            //   {'id': 'e24', 'source': 'n2', 'target': 'n4'},\n",
       "            //   {'id': 'e29', 'source': 'n2', 'target': 'n9'},\n",
       "            //   {'id': 'e34', 'source': 'n3', 'target': 'n4'},\n",
       "            //   {'id': 'e35', 'source': 'n3', 'target': 'n5'},\n",
       "            //   {'id': 'e45', 'source': 'n4', 'target': 'n5'},\n",
       "            //   {'id': 'e46', 'source': 'n4', 'target': 'n6'},\n",
       "            //   {'id': 'e56', 'source': 'n5', 'target': 'n6'},\n",
       "            //   {'id': 'e57', 'source': 'n5', 'target': 'n7'},\n",
       "            //   {'id': 'e68', 'source': 'n6', 'target': 'n8'},\n",
       "            //   {'id': 'e67', 'source': 'n6', 'target': 'n7'},\n",
       "            //   {'id': 'e78', 'source': 'n7', 'target': 'n8'},\n",
       "            //   {'id': 'e79', 'source': 'n7', 'target': 'n9'},\n",
       "            //   {'id': 'e89', 'source': 'n8', 'target': 'n9'}],\n",
       "            //  'nodes': [{'color': '#c1e4d5',\n",
       "            //    'id': 'n0',\n",
       "            //    'size': 1,\n",
       "            //    'x': 0.3142195603571719,\n",
       "            //    'y': 0.7597627953276259},\n",
       "            //   {'color': '#b8e0cf',\n",
       "            //    'id': 'n1',\n",
       "            //    'size': 1,\n",
       "            //    'x': 0.19687066456535562,\n",
       "            //    'y': 0.911656533911617},\n",
       "            //   {'color': '#46b779',\n",
       "            //    'id': 'n2',\n",
       "            //    'size': 1,\n",
       "            //    'x': 0.7346903262175539,\n",
       "            //    'y': 0.4497176768204467},\n",
       "            //   {'color': '#d6ddf2',\n",
       "            //    'id': 'n3',\n",
       "            //    'size': 1,\n",
       "            //    'x': 0.6509681011724193,\n",
       "            //    'y': 0.7939470780617669},\n",
       "            //   {'color': '#f0f5f9',\n",
       "            //    'id': 'n4',\n",
       "            //    'size': 1,\n",
       "            //    'x': 0.34968972608560767,\n",
       "            //    'y': 0.052230458147380254},\n",
       "            //   {'color': '#ebf3f6',\n",
       "            //    'id': 'n5',\n",
       "            //    'size': 1,\n",
       "            //    'x': 0.7763268737696849,\n",
       "            //    'y': 0.29526832953242765},\n",
       "            //   {'color': '#74c89b',\n",
       "            //    'id': 'n6',\n",
       "            //    'size': 1,\n",
       "            //    'x': 0.964345683130373,\n",
       "            //    'y': 0.2920570283510353},\n",
       "            //   {'color': '#67c391',\n",
       "            //    'id': 'n7',\n",
       "            //    'size': 1,\n",
       "            //    'x': 0.29755145984946674,\n",
       "            //    'y': 0.19167517517104748},\n",
       "            //   {'color': '#6181c3',\n",
       "            //    'id': 'n8',\n",
       "            //    'size': 1,\n",
       "            //    'x': 0.12847253419763072,\n",
       "            //    'y': 0.22529639712760818},\n",
       "            //   {'color': '#eff1fb',\n",
       "            //    'id': 'n9',\n",
       "            //    'label': 'lalalal',\n",
       "            //    'size': 1,\n",
       "            //    'x': 0.22904247065470362,\n",
       "            //    'y': 0.6104898579847635}\n",
       "            //    ]\n",
       "            // };\n"
      ],
      "text/plain": [
       "<IPython.core.display.Javascript object>"
      ]
     },
     "metadata": {},
     "output_type": "display_data"
    }
   ],
   "source": [
    "gw.publish_js()"
   ]
  },
  {
   "cell_type": "code",
   "execution_count": 4,
   "metadata": {
    "collapsed": false
   },
   "outputs": [],
   "source": [
    "from ipywidgets import widgets\n",
    "from pprint import pprint"
   ]
  },
  {
   "cell_type": "code",
   "execution_count": 6,
   "metadata": {
    "collapsed": false
   },
   "outputs": [],
   "source": [
    "w = gw.SigmajsWidget()\n",
    "w.width = 800\n",
    "w.height = 400\n",
    "w.slowdown = 1\n",
    "\n",
    "def newman_watts_strogatz(n, k, p):\n",
    "    _g = nx.newman_watts_strogatz_graph(n, k, p)\n",
    "    w.set_graph(_g)\n",
    "\n",
    "s = widgets.Latex(description='SelectedNode')\n",
    "\n",
    "c = widgets.VBox()\n",
    "c.children= [w,s]\n",
    "c"
   ]
  },
  {
   "cell_type": "code",
   "execution_count": null,
   "metadata": {
    "collapsed": true
   },
   "outputs": [],
   "source": [
    "from traitlets import Unicode, Dict, Int, List"
   ]
  },
  {
   "cell_type": "code",
   "execution_count": 7,
   "metadata": {
    "collapsed": false
   },
   "outputs": [
    {
     "data": {
      "text/plain": [
       "None"
      ]
     },
     "metadata": {},
     "output_type": "display_data"
    }
   ],
   "source": [
    "widgets.interact(newman_watts_strogatz, n=(20,350), m=(1,10), k=(1,10), p=(0.0, 1.0, 0.001))"
   ]
  },
  {
   "cell_type": "code",
   "execution_count": null,
   "metadata": {
    "collapsed": false
   },
   "outputs": [],
   "source": [
    "def f(x, n):\n",
    "    s.value = n\n",
    "w.on_trait_change(f, 'selected_node')"
   ]
  }
 ],
 "metadata": {
  "kernelspec": {
   "display_name": "Python 3",
   "language": "python",
   "name": "python3"
  },
  "language_info": {
   "codemirror_mode": {
    "name": "ipython",
    "version": 3
   },
   "file_extension": ".py",
   "mimetype": "text/x-python",
   "name": "python",
   "nbconvert_exporter": "python",
   "pygments_lexer": "ipython3",
   "version": "3.4.3"
  }
 },
 "nbformat": 4,
 "nbformat_minor": 0
}
